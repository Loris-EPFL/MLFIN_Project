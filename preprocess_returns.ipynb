{
 "cells": [
  {
   "cell_type": "markdown",
   "id": "1d4e169a",
   "metadata": {},
   "source": [
    "Notebook to preprocess the returns data (i.e monthly_crsp.csv)"
   ]
  },
  {
   "cell_type": "code",
   "execution_count": null,
   "id": "6c2b95b1",
   "metadata": {},
   "outputs": [],
   "source": [
    "# Mount using collab\n",
    "from google.colab import drive\n",
    "import os\n",
    "import pandas as pd\n",
    "drive.mount('/content/gdrive',force_remount=True)\n",
    "folder = '/content/gdrive/My Drive/datasets_mlfin'"
   ]
  },
  {
   "cell_type": "code",
   "execution_count": null,
   "id": "a654fab9",
   "metadata": {},
   "outputs": [],
   "source": [
    "df = pd.read_csv((os.path.join(folder, 'monthly_crsp.csv')))"
   ]
  },
  {
   "cell_type": "code",
   "execution_count": null,
   "id": "d099ec3e",
   "metadata": {},
   "outputs": [],
   "source": [
    "#Alernative: Mount using pc if enough RAM\n",
    "df = pd.read_csv('datasets/Targets/monthly_crsp.csv')"
   ]
  },
  {
   "cell_type": "markdown",
   "id": "c9e9a49c",
   "metadata": {},
   "source": [
    "Now we use the code inside preprocessing and the function inside returns to preprocess the data and smooth the returns."
   ]
  },
  {
   "cell_type": "code",
   "execution_count": null,
   "id": "f9df33aa",
   "metadata": {},
   "outputs": [],
   "source": [
    "from preprocessing.preprocessing_returns import find_cusips_with_most_unique_data, add_smoothing_features_to_dataset\n",
    "\n",
    "# Get top 10 CUSIPs with most unique data points\n",
    "top_cusips, result_dict = find_cusips_with_most_unique_data(df, top_n=10)\n",
    "\n",
    "# Access the deduplicated dataframe\n",
    "df_unique = result_dict['df_unique']\n",
    "\n",
    "# Print the first few rows of the deduplicated dataframe\n",
    "df_unique.head()\n",
    "\n",
    "\n",
    "# Example usage:\n",
    "# Add smoothing features to the entire dataset\n",
    "df_with_features = add_smoothing_features_to_dataset(\n",
    "    df_unique,  \n",
    "    window_sizes=[3, 6, 12],\n",
    "    lowess_frac=0.1\n",
    ")\n",
    "\n",
    "# Save the enhanced dataset using collab\n",
    "df_with_features.to_csv((os.path.join(folder, 'stock_returns_with_smoothing.csv')), index=False)\n",
    "\n",
    "# Or save using local files if using local read\n",
    "# df_with_features.to_csv('stock_returns_with_smoothing.csv', index=False)\n",
    "\n",
    "print(f\"Dataset with smoothing features saved to 'stock_returns_with_smoothing.csv'\")\n"
   ]
  }
 ],
 "metadata": {
  "language_info": {
   "name": "python"
  }
 },
 "nbformat": 4,
 "nbformat_minor": 5
}
