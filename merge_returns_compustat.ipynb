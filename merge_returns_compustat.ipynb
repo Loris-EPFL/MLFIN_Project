{
  "cells": [
    {
      "cell_type": "markdown",
      "metadata": {},
      "source": [
        "We use collab here to merge the processed compustat dataset and the returns dataset using merge_asof.\n",
        "Either run on collab or have enough ram to handle the datasets."
      ]
    },
    {
      "cell_type": "code",
      "execution_count": null,
      "metadata": {
        "colab": {
          "base_uri": "https://localhost:8080/"
        },
        "id": "LL9zH4vSveBQ",
        "outputId": "5045bf15-39d6-48b3-f831-96d952e5a5be"
      },
      "outputs": [
        {
          "name": "stdout",
          "output_type": "stream",
          "text": [
            "Mounted at /content/gdrive\n"
          ]
        }
      ],
      "source": [
        "# Run using Collab\n",
        "from google.colab import drive\n",
        "import os\n",
        "import pandas as pd\n",
        "drive.mount('/content/gdrive',force_remount=True)\n",
        "folder = '/content/gdrive/My Drive/datasets_mlfin'"
      ]
    },
    {
      "cell_type": "code",
      "execution_count": null,
      "metadata": {},
      "outputs": [],
      "source": [
        "#Run Locally\n",
        "folder = \"datasets/PostProcessed/\""
      ]
    },
    {
      "cell_type": "code",
      "execution_count": null,
      "metadata": {
        "colab": {
          "base_uri": "https://localhost:8080/"
        },
        "id": "rqMPY-Kov1fO",
        "outputId": "cd1b1a56-7946-4f40-c9d5-b35154d564e7"
      },
      "outputs": [
        {
          "name": "stderr",
          "output_type": "stream",
          "text": [
            "<ipython-input-10-1833506057>:1: DtypeWarning: Columns (2) have mixed types. Specify dtype option on import or set low_memory=False.\n",
            "  returns_df = pd.read_csv(os.path.join(folder, 'processed_returns.csv'))\n"
          ]
        }
      ],
      "source": [
        "returns_df = pd.read_csv(os.path.join(folder, 'processed_returns.csv'))\n",
        "compustat_df = pd.read_csv(os.path.join(folder, 'processed_data_compustat.csv'))"
      ]
    },
    {
      "cell_type": "code",
      "execution_count": null,
      "metadata": {
        "colab": {
          "base_uri": "https://localhost:8080/"
        },
        "id": "5UvQoaQgvii1",
        "outputId": "18e79234-7738-4d8c-f339-40b6b708b747"
      },
      "outputs": [
        {
          "name": "stdout",
          "output_type": "stream",
          "text": [
            "Returns dataset shape: (4725384, 9)\n",
            "Compustat dataset shape: (3848428, 43)\n",
            "Returns date range: 1961-01-31 00:00:00 to 2024-12-31 00:00:00\n",
            "Compustat date range: 1961-03-31 00:00:00 to 2025-04-30 00:00:00\n",
            "Common CUSIPs: 23064\n",
            "\n",
            "Merged dataset shape: (4725384, 51)\n",
            "Merged dataset unique CUSIPs: 54128\n",
            "Rows with Compustat data: 1597582\n",
            "Percentage with Compustat data: 33.80851164688415 %\n",
            "\n",
            "Missing value percentages for each predictor:\n",
            "epspxy: 66.68%\n",
            "oiadpy: 67.84%\n",
            "saley: 69.72%\n",
            "earnings_growth: 70.36%\n",
            "revenue_growth: 71.05%\n",
            "eps_surprise: 66.84%\n",
            "dividend_change: 89.27%\n",
            "repurchase_intensity: 74.70%\n",
            "\n",
            "Strict dataset (no missing values) shape: (493737, 52)\n",
            "\n",
            "Sample of strict dataset:\n",
            "           cusip   MthCalDt    MthRet   datadate  epspxy  oiadpy   saley  \\\n",
            "315102  86666510 1973-01-31  0.018182 1973-01-31    0.27   1.382   8.453   \n",
            "321152  86666510 1973-02-28 -0.080357 1973-02-28    0.27   1.382   8.453   \n",
            "332791  86666510 1973-04-30 -0.106383 1973-04-30    0.32   1.382  10.704   \n",
            "338549  86666510 1973-05-31 -0.059821 1973-05-31    0.32   1.382  10.704   \n",
            "349931  86666510 1973-07-31  0.525000 1973-07-31    0.32   1.382  10.704   \n",
            "\n",
            "        earnings_growth  revenue_growth  eps_surprise  dividend_change  \\\n",
            "315102         0.185714        0.011487          0.00              0.0   \n",
            "321152         0.185714        0.011487          0.00              0.0   \n",
            "332791         0.200803        0.266296          0.05              0.0   \n",
            "338549         0.200803        0.266296          0.05              0.0   \n",
            "349931         0.200803        0.266296          0.00              0.0   \n",
            "\n",
            "        repurchase_intensity  \n",
            "315102              0.039631  \n",
            "321152              0.039631  \n",
            "332791              0.031297  \n",
            "338549              0.031297  \n",
            "349931              0.031297  \n",
            "\n",
            "Final dataset shapes:\n",
            "Strict: X: (493737, 8) y: (493737,)\n"
          ]
        }
      ],
      "source": [
        "import pandas as pd\n",
        "import numpy as np\n",
        "from sklearn.impute import SimpleImputer\n",
        "\n",
        "# 2. Standardize CUSIP format\n",
        "returns_df = returns_df.rename(columns={'CUSIP': 'cusip'})\n",
        "returns_df['cusip'] = returns_df['cusip'].astype(str).str.strip().str[:8]\n",
        "compustat_df['cusip'] = compustat_df['cusip'].astype(str).str.strip().str[:8]\n",
        "\n",
        "# 3. Convert dates to datetime\n",
        "returns_df['MthCalDt'] = pd.to_datetime(returns_df['MthCalDt'])\n",
        "compustat_df['datadate'] = pd.to_datetime(compustat_df['datadate'])\n",
        "\n",
        "# 5. Print some diagnostic information\n",
        "print(\"Returns dataset shape:\", returns_df.shape)\n",
        "print(\"Compustat dataset shape:\", compustat_df.shape)\n",
        "print(\"Returns date range:\", returns_df['MthCalDt'].min(), \"to\", returns_df['MthCalDt'].max())\n",
        "print(\"Compustat date range:\", compustat_df['datadate'].min(), \"to\", compustat_df['datadate'].max())\n",
        "print(\"Common CUSIPs:\", len(set(returns_df['cusip']) & set(compustat_df['cusip'])))\n",
        "\n",
        "# 6. Perform the asof merge\n",
        "# This will match each return with the most recent compustat data available before the return date\n",
        "merged_df = pd.merge_asof(\n",
        "    returns_df.sort_values('MthCalDt'),\n",
        "    compustat_df.sort_values('datadate'),\n",
        "    left_on='MthCalDt',\n",
        "    right_on='datadate',\n",
        "    by='cusip',\n",
        "    direction='backward',\n",
        "    tolerance=pd.Timedelta('7 days')  # Allow matching within the last 90 days\n",
        ")\n",
        "\n",
        "# 7. Check the merge results\n",
        "print(\"\\nMerged dataset shape:\", merged_df.shape)\n",
        "print(\"Merged dataset unique CUSIPs:\", merged_df['cusip'].nunique())\n",
        "\n",
        "# 8. Identify rows with Compustat data\n",
        "merged_df['has_compustat'] = merged_df['datadate'].notna()\n",
        "print(\"Rows with Compustat data:\", merged_df['has_compustat'].sum())\n",
        "print(\"Percentage with Compustat data:\", merged_df['has_compustat'].mean() * 100, \"%\")\n",
        "\n",
        "# 9. Define the predictors we want to use\n",
        "predictors = [col for col in [\n",
        "    'epspxy', 'oiadpy', 'saley', 'earnings_growth',\n",
        "    'revenue_growth', 'eps_surprise', 'dividend_change',\n",
        "    'repurchase_intensity'\n",
        "] if col in merged_df.columns]\n",
        "\n",
        "# 10. Handle missing values more intelligently\n",
        "# First, ensure we have returns\n",
        "merged_df = merged_df.dropna(subset=['MthRet'])\n",
        "\n",
        "# Check missing value percentages for each predictor\n",
        "missing_percentages = merged_df[predictors].isna().mean() * 100\n",
        "print(\"\\nMissing value percentages for each predictor:\")\n",
        "for pred, pct in missing_percentages.items():\n",
        "    print(f\"{pred}: {pct:.2f}%\")\n",
        "\n",
        "# 11. Create different versions of the cleaned dataset\n",
        "# Version 1: Only keep rows with Compustat data and no missing predictors\n",
        "merged_df_strict = merged_df[merged_df['has_compustat']].dropna(subset=predictors)\n",
        "print(\"\\nStrict dataset (no missing values) shape:\", merged_df_strict.shape)\n",
        "\n",
        "\n",
        "# 13. Show samples of each version\n",
        "print(\"\\nSample of strict dataset:\")\n",
        "print(merged_df_strict[['cusip', 'MthCalDt', 'MthRet', 'datadate'] + predictors].head())\n",
        "\n",
        "# 14. Create final X and y datasets (using the imputed version as default)\n",
        "y_strict = merged_df_strict['MthRet']\n",
        "X_strict = merged_df_strict[predictors]\n",
        "\n",
        "print(\"\\nFinal dataset shapes:\")\n",
        "print(\"Strict: X:\", X_strict.shape, \"y:\", y_strict.shape)\n",
        "\n",
        "merged_df_strict.head()\n",
        "\n",
        "# Remove unwanted columns from compustat_df\n",
        "if 'available_date' in merged_df_strict.columns:\n",
        "    merged_df_strict.drop(columns=['available_date'])\n",
        "if 'has_compustat' in merged_df_strict.columns:\n",
        "    merged_df_strict.drop(columns=['has_compustat'])\n",
        "\n",
        "total_nans = merged_df_strict.isna().sum().sum()\n",
        "print(f\"Total NaNs in dataset: {total_nans}\")\n",
        "\n",
        "rows_with_nan = merged_df_strict.isna().any(axis=1).sum()\n",
        "print(f\"Number of rows with at least one NaN: {rows_with_nan}\")\n",
        "\n",
        "\n",
        "merged_df_strict.to_csv(os.path.join(folder, 'merged_data_strict.csv'), index=False)\n"
      ]
    },
    {
      "cell_type": "code",
      "execution_count": null,
      "metadata": {
        "colab": {
          "base_uri": "https://localhost:8080/"
        },
        "id": "-I-WwmcN6GbA",
        "outputId": "4bf634be-d080-4122-b00a-f4d0f92116ce"
      },
      "outputs": [
        {
          "name": "stdout",
          "output_type": "stream",
          "text": [
            "Total NaNs in dataset: 317532\n",
            "Number of rows with at least one NaN: 172865\n"
          ]
        }
      ],
      "source": []
    }
  ],
  "metadata": {
    "colab": {
      "machine_shape": "hm",
      "provenance": []
    },
    "kernelspec": {
      "display_name": "Python 3",
      "name": "python3"
    },
    "language_info": {
      "name": "python"
    }
  },
  "nbformat": 4,
  "nbformat_minor": 0
}
